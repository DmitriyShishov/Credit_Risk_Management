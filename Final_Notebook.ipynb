{
 "cells": [
  {
   "cell_type": "markdown",
   "id": "93a99456-159d-49f4-833c-01fa027f5fa9",
   "metadata": {
    "jp-MarkdownHeadingCollapsed": true
   },
   "source": [
    "## Импорт библиотек"
   ]
  },
  {
   "cell_type": "code",
   "execution_count": 1,
   "id": "b7eaecf6-20d0-4b61-8c0e-15734feb3ce3",
   "metadata": {},
   "outputs": [
    {
     "name": "stderr",
     "output_type": "stream",
     "text": [
      "C:\\Users\\shish\\anaconda3\\envs\\new_env\\lib\\site-packages\\tqdm\\auto.py:21: TqdmWarning: IProgress not found. Please update jupyter and ipywidgets. See https://ipywidgets.readthedocs.io/en/stable/user_install.html\n",
      "  from .autonotebook import tqdm as notebook_tqdm\n"
     ]
    }
   ],
   "source": [
    "import pandas as pd\n",
    "from matplotlib import pyplot as plt\n",
    "import gc\n",
    "import numpy as np\n",
    "import optuna\n",
    "import seaborn as sns\n",
    "\n",
    "from sklearn.model_selection import train_test_split, GridSearchCV, KFold, cross_val_score, StratifiedKFold\n",
    "from sklearn.metrics import roc_auc_score, accuracy_score, precision_score, recall_score, f1_score, classification_report, confusion_matrix, roc_curve, auc\n",
    "\n",
    "from sklearn.linear_model import LogisticRegression\n",
    "from sklearn.ensemble import RandomForestClassifier, GradientBoostingClassifier\n",
    "from catboost import CatBoostClassifier\n",
    "from lightgbm import LGBMClassifier\n",
    "from xgboost import XGBClassifier\n",
    "\n",
    "\n",
    "import warnings\n",
    "warnings.filterwarnings('ignore')"
   ]
  },
  {
   "cell_type": "markdown",
   "id": "a2435a3f-6112-4c48-ae4d-fec2269468dc",
   "metadata": {
    "jp-MarkdownHeadingCollapsed": true
   },
   "source": [
    "## Загрузка и преобразование датасетов"
   ]
  },
  {
   "cell_type": "markdown",
   "id": "abf6a35e-21b9-4bfc-b533-dcb6d31c8587",
   "metadata": {
    "jp-MarkdownHeadingCollapsed": true
   },
   "source": [
    "### Загрузка и преобразование паркетов"
   ]
  },
  {
   "cell_type": "code",
   "execution_count": 2,
   "id": "32c557db-dc21-48d0-a989-7a6b51bd3154",
   "metadata": {},
   "outputs": [],
   "source": [
    "def main_df_load(x):\n",
    "    df = pd.DataFrame()\n",
    "    \n",
    "    for i in range(x):\n",
    "        temp_df = pd.read_parquet(f'train_data/train_data_{i}.pq')\n",
    "        for col in temp_df.columns:\n",
    "            if np.all((temp_df[col] >= np.iinfo(np.int8).min) & (temp_df[col] <= np.iinfo(np.int8).max)):\n",
    "                temp_df[col] = temp_df[col].astype('int8')\n",
    "            \n",
    "        df = pd.concat([df, temp_df])\n",
    "        \n",
    "        del temp_df\n",
    "    return df"
   ]
  },
  {
   "cell_type": "code",
   "execution_count": 3,
   "id": "282dad1b-264a-4d75-9215-219a7ccca5f3",
   "metadata": {},
   "outputs": [],
   "source": [
    "df = main_df_load(12)"
   ]
  },
  {
   "cell_type": "code",
   "execution_count": 4,
   "id": "3e71c2b8-2e2e-40f4-8e4c-89210cb1c3f9",
   "metadata": {},
   "outputs": [
    {
     "data": {
      "text/plain": [
       "(26162717, 61)"
      ]
     },
     "execution_count": 4,
     "metadata": {},
     "output_type": "execute_result"
    }
   ],
   "source": [
    "df.shape"
   ]
  },
  {
   "cell_type": "markdown",
   "id": "36ffb163-e1d9-46bf-ba6b-eb5b20f2e6f3",
   "metadata": {
    "jp-MarkdownHeadingCollapsed": true
   },
   "source": [
    "### Удаление дубликатов"
   ]
  },
  {
   "cell_type": "code",
   "execution_count": 5,
   "id": "c9eb9b9e-1dca-41d8-9063-52a3072d805e",
   "metadata": {},
   "outputs": [],
   "source": [
    "def drop_duplicates(df):\n",
    "    df = df.drop_duplicates()\n",
    "    return df"
   ]
  },
  {
   "cell_type": "code",
   "execution_count": 6,
   "id": "a446e286-de17-4b7f-a2c0-d569924e677e",
   "metadata": {},
   "outputs": [],
   "source": [
    "df = drop_duplicates(df)"
   ]
  },
  {
   "cell_type": "code",
   "execution_count": 7,
   "id": "a26d4df0-9214-4b7d-87d6-a266e5a3096d",
   "metadata": {},
   "outputs": [
    {
     "data": {
      "text/plain": [
       "(26162717, 61)"
      ]
     },
     "execution_count": 7,
     "metadata": {},
     "output_type": "execute_result"
    }
   ],
   "source": [
    "df.shape"
   ]
  },
  {
   "cell_type": "markdown",
   "id": "8615fb8f-24af-4304-b10d-acfd258503be",
   "metadata": {
    "jp-MarkdownHeadingCollapsed": true
   },
   "source": [
    "### Удаление пустых строк"
   ]
  },
  {
   "cell_type": "code",
   "execution_count": 8,
   "id": "5e358ac0-0509-4229-b4eb-49fb8df4e552",
   "metadata": {},
   "outputs": [],
   "source": [
    "def drop_nan(df):\n",
    "    df = df.dropna()\n",
    "    return df"
   ]
  },
  {
   "cell_type": "code",
   "execution_count": 9,
   "id": "9d9e2eb0-1948-477c-b884-ea11b1641163",
   "metadata": {},
   "outputs": [],
   "source": [
    "df = drop_nan(df)"
   ]
  },
  {
   "cell_type": "code",
   "execution_count": 10,
   "id": "20bce4ab-2860-4520-af20-36a1a1535cf4",
   "metadata": {},
   "outputs": [
    {
     "data": {
      "text/plain": [
       "(26162717, 61)"
      ]
     },
     "execution_count": 10,
     "metadata": {},
     "output_type": "execute_result"
    }
   ],
   "source": [
    "df.shape"
   ]
  },
  {
   "cell_type": "markdown",
   "id": "ab461472-77f9-4558-aaa6-484ba3b2b9ad",
   "metadata": {
    "jp-MarkdownHeadingCollapsed": true
   },
   "source": [
    "### Кодировка категориальных переменных"
   ]
  },
  {
   "cell_type": "code",
   "execution_count": 11,
   "id": "ac5e573f-c55a-46d6-bcef-6c5147c74e61",
   "metadata": {},
   "outputs": [],
   "source": [
    "def encoding(df):\n",
    "    cols_for_encoder = df.drop(['id', 'rn', 'is_zero_loans5', 'is_zero_loans530', \n",
    "                                 'is_zero_loans3060', 'is_zero_loans6090', \n",
    "                                 'is_zero_loans90', 'is_zero_util', \n",
    "                                 'is_zero_over2limit', 'is_zero_maxover2limit', \n",
    "                                 'pclose_flag', 'fclose_flag'], axis=1).columns.tolist()\n",
    "\n",
    "    df = pd.get_dummies(df, columns=cols_for_encoder, dtype='int8')\n",
    "    return df"
   ]
  },
  {
   "cell_type": "code",
   "execution_count": 12,
   "id": "5aaee185-6679-4f9f-9405-a14cc78d2e76",
   "metadata": {},
   "outputs": [],
   "source": [
    "df = encoding(df)"
   ]
  },
  {
   "cell_type": "code",
   "execution_count": 13,
   "id": "324fdd7f-223e-4bd3-b219-b2419800f1ce",
   "metadata": {},
   "outputs": [
    {
     "data": {
      "text/plain": [
       "(26162717, 411)"
      ]
     },
     "execution_count": 13,
     "metadata": {},
     "output_type": "execute_result"
    }
   ],
   "source": [
    "df.shape"
   ]
  },
  {
   "cell_type": "markdown",
   "id": "60d7f57b-91c4-46bf-8c58-1dfb2cd8e505",
   "metadata": {
    "jp-MarkdownHeadingCollapsed": true
   },
   "source": [
    "### Агрегация"
   ]
  },
  {
   "cell_type": "code",
   "execution_count": 14,
   "id": "2f20dd18-f8eb-4b82-83eb-78a1b623d124",
   "metadata": {},
   "outputs": [],
   "source": [
    "def agg_func(df):\n",
    "    max_columns = ['rn']\n",
    "    sum_columns = df.drop(['id', 'rn'], axis=1).columns.tolist()\n",
    "\n",
    "    agg_dict = {col: 'max' for col in max_columns}\n",
    "    agg_dict.update({col: 'sum' for col in sum_columns})\n",
    "\n",
    "    df = df.groupby('id', as_index=False).agg(agg_dict)\n",
    "\n",
    "    for col in df.columns:\n",
    "        if col != 'id':\n",
    "            if np.all((df[col] >= np.iinfo(np.int8).min) & (df[col] <= np.iinfo(np.int8).max)):\n",
    "                df[col] = df[col].astype('int8')\n",
    "            elif np.all((df[col] >= np.iinfo(np.int16).min) & (df[col] <= np.iinfo(np.int16).max)):\n",
    "                df[col] = df[col].astype('int16')\n",
    "            else:\n",
    "                df[col] = df[col].astype('int32')\n",
    "    return df"
   ]
  },
  {
   "cell_type": "code",
   "execution_count": 15,
   "id": "a14ef50b-4b3c-404f-b9ab-ce3b098f52ff",
   "metadata": {},
   "outputs": [],
   "source": [
    "df = agg_func(df)"
   ]
  },
  {
   "cell_type": "code",
   "execution_count": 16,
   "id": "b23db692-0412-45de-bf23-aac75cd6b2c2",
   "metadata": {},
   "outputs": [
    {
     "data": {
      "text/plain": [
       "(3000000, 411)"
      ]
     },
     "execution_count": 16,
     "metadata": {},
     "output_type": "execute_result"
    }
   ],
   "source": [
    "df.shape"
   ]
  },
  {
   "cell_type": "markdown",
   "id": "3d34baac-5c22-474c-82e8-aff5302e5c7f",
   "metadata": {
    "jp-MarkdownHeadingCollapsed": true
   },
   "source": [
    "### Объединение с целевой переменной"
   ]
  },
  {
   "cell_type": "code",
   "execution_count": 17,
   "id": "7e8c9aee-9ddf-443b-bc3e-6b923c72d381",
   "metadata": {},
   "outputs": [],
   "source": [
    "def merge_targets(df):\n",
    "    target_df = pd.read_csv('target/train_target.csv')\n",
    "    df = df.merge(target_df, on='id', how='inner')\n",
    "    del target_df\n",
    "    return df"
   ]
  },
  {
   "cell_type": "code",
   "execution_count": 18,
   "id": "8f365a71-46a9-4e43-9cdd-c0f6583be40a",
   "metadata": {},
   "outputs": [],
   "source": [
    "df = merge_targets(df)"
   ]
  },
  {
   "cell_type": "code",
   "execution_count": 19,
   "id": "351eca6c-679d-4efa-9e3c-efda50427f5a",
   "metadata": {},
   "outputs": [
    {
     "data": {
      "text/plain": [
       "(3000000, 412)"
      ]
     },
     "execution_count": 19,
     "metadata": {},
     "output_type": "execute_result"
    }
   ],
   "source": [
    "df.shape"
   ]
  },
  {
   "cell_type": "markdown",
   "id": "f8304ada-a712-4538-a0c0-8bf8f3bcc852",
   "metadata": {
    "jp-MarkdownHeadingCollapsed": true
   },
   "source": [
    "### Генерация новых признаков"
   ]
  },
  {
   "cell_type": "code",
   "execution_count": 20,
   "id": "a134180d-b8af-4930-87e3-e3773feabe67",
   "metadata": {},
   "outputs": [],
   "source": [
    "def new_features(df):\n",
    "    for col in df.drop(['id', 'rn', 'flag'], axis=1).columns.tolist():\n",
    "        df.loc[:, [f'{col}_to_rn']] = df[col] / df['rn']\n",
    "        if np.all((df[f'{col}_to_rn'] >= np.finfo(np.float16).min) & (df[f'{col}_to_rn'] <= np.finfo(np.float16).max)):\n",
    "            df[f'{col}_to_rn'] = df[f'{col}_to_rn'].astype('float16')\n",
    "        else:\n",
    "            df[f'{col}_to_rn'] = df[f'{col}_to_rn'].astype('float32')\n",
    "    return df"
   ]
  },
  {
   "cell_type": "code",
   "execution_count": 21,
   "id": "9efb5496-278e-4784-b78e-cc8afce89bc8",
   "metadata": {},
   "outputs": [],
   "source": [
    "df = new_features(df)"
   ]
  },
  {
   "cell_type": "code",
   "execution_count": 22,
   "id": "cb7f97de-627b-4a77-a198-554167363ddc",
   "metadata": {},
   "outputs": [
    {
     "data": {
      "text/plain": [
       "(3000000, 821)"
      ]
     },
     "execution_count": 22,
     "metadata": {},
     "output_type": "execute_result"
    }
   ],
   "source": [
    "df.shape"
   ]
  },
  {
   "cell_type": "markdown",
   "id": "a0ec81b0-046f-4f0a-9039-30ee0e8b536e",
   "metadata": {
    "jp-MarkdownHeadingCollapsed": true
   },
   "source": [
    "### Удаление ненужных столбцов"
   ]
  },
  {
   "cell_type": "code",
   "execution_count": 23,
   "id": "9c4179ba-25aa-4918-9529-2e19bc68d0e7",
   "metadata": {},
   "outputs": [],
   "source": [
    "def drop_columns(df):\n",
    "    df = df.drop('id', axis=1)\n",
    "    return df"
   ]
  },
  {
   "cell_type": "code",
   "execution_count": 24,
   "id": "c1d4d0f4-2206-4b7c-bfad-7ad7e321a32c",
   "metadata": {},
   "outputs": [],
   "source": [
    "df = drop_columns(df)"
   ]
  },
  {
   "cell_type": "code",
   "execution_count": 25,
   "id": "0d68f27f-8688-4fe5-aff7-f9056ce12790",
   "metadata": {},
   "outputs": [
    {
     "data": {
      "text/plain": [
       "(3000000, 820)"
      ]
     },
     "execution_count": 25,
     "metadata": {},
     "output_type": "execute_result"
    }
   ],
   "source": [
    "df.shape"
   ]
  },
  {
   "cell_type": "code",
   "execution_count": 26,
   "id": "2a819077-1954-4479-bc4e-6d43d621fa0c",
   "metadata": {},
   "outputs": [],
   "source": [
    "df.to_pickle('data_4Modeling.pkl')"
   ]
  },
  {
   "cell_type": "markdown",
   "id": "6bbc86d4-6bc0-4bf2-b56c-e367ea20c6ca",
   "metadata": {
    "jp-MarkdownHeadingCollapsed": true
   },
   "source": [
    "### Разделение данных для моделирования"
   ]
  },
  {
   "cell_type": "code",
   "execution_count": 27,
   "id": "3941a037-5022-4360-8b80-b527c0f6131d",
   "metadata": {},
   "outputs": [],
   "source": [
    "df_train, df_test = train_test_split(df, test_size=0.2, random_state=42)\n",
    "x_train = df_train.drop('flag', axis=1)\n",
    "y_train = df_train['flag']\n",
    "\n",
    "x_test = df_test.drop('flag', axis=1)\n",
    "y_test = df_test['flag']"
   ]
  },
  {
   "cell_type": "code",
   "execution_count": 28,
   "id": "85ab94e5-23ea-424c-84a0-719094fb2885",
   "metadata": {},
   "outputs": [
    {
     "data": {
      "text/plain": [
       "27.19383259911894"
      ]
     },
     "execution_count": 28,
     "metadata": {},
     "output_type": "execute_result"
    }
   ],
   "source": [
    "len(y_train[y_train == 0]) / len(y_train[y_train == 1])"
   ]
  },
  {
   "cell_type": "markdown",
   "id": "55f3f173-d9f1-4273-93db-102c842e4ded",
   "metadata": {
    "jp-MarkdownHeadingCollapsed": true
   },
   "source": [
    "## Моделирование"
   ]
  },
  {
   "cell_type": "markdown",
   "id": "7b59cbe7-bccb-44fb-b6ad-92c0174f776b",
   "metadata": {
    "jp-MarkdownHeadingCollapsed": true
   },
   "source": [
    "### Моделирование с параметрами по умолчанию"
   ]
  },
  {
   "cell_type": "code",
   "execution_count": 43,
   "id": "4ca9ea37-8d3b-4239-845e-f97d828e5443",
   "metadata": {},
   "outputs": [],
   "source": [
    "models = [RandomForestClassifier(class_weight='balanced'), \n",
    "          LogisticRegression(class_weight='balanced'), \n",
    "          LGBMClassifier(verbose=0, class_weight='balanced'), \n",
    "          CatBoostClassifier(verbose=0, class_weights=[1, 30])]\n",
    "model_metrics = []\n",
    "for model in models:\n",
    "    model.fit(x_train, y_train)\n",
    "    \n",
    "    kfold = StratifiedKFold(n_splits=5, shuffle=True, random_state=42)\n",
    "    cv_scores = cross_val_score(model, x_train, y_train, cv=kfold, scoring='roc_auc')\n",
    "\n",
    "    y_pred = model.predict(x_test)\n",
    "    \n",
    "    accuracy = accuracy_score(y_test, y_pred)\n",
    "    precision = precision_score(y_test, y_pred)\n",
    "    recall = recall_score(y_test, y_pred)\n",
    "    f1 = f1_score(y_test, y_pred)\n",
    "    roc_auc = roc_auc_score(y_test, model.predict_proba(x_test)[:, 1])\n",
    "\n",
    "    model_metrics.append({\n",
    "        'model': (f'{model}'),\n",
    "        'cv_mean_roc_auc': round(cv_scores.mean(), 3),\n",
    "        'accuracy': round(accuracy, 3),\n",
    "        'precision_score': round(precision, 3),\n",
    "        'recall': round(recall, 3),\n",
    "        'f1': round(f1, 3),\n",
    "        'roc_auc': round(roc_auc, 3)\n",
    "    })\n",
    "\n",
    "result_df = pd.DataFrame(model_metrics)"
   ]
  },
  {
   "cell_type": "code",
   "execution_count": 45,
   "id": "a708c676-2ebf-49b6-842d-210da1cc334b",
   "metadata": {},
   "outputs": [
    {
     "data": {
      "text/html": [
       "<div>\n",
       "<style scoped>\n",
       "    .dataframe tbody tr th:only-of-type {\n",
       "        vertical-align: middle;\n",
       "    }\n",
       "\n",
       "    .dataframe tbody tr th {\n",
       "        vertical-align: top;\n",
       "    }\n",
       "\n",
       "    .dataframe thead th {\n",
       "        text-align: right;\n",
       "    }\n",
       "</style>\n",
       "<table border=\"1\" class=\"dataframe\">\n",
       "  <thead>\n",
       "    <tr style=\"text-align: right;\">\n",
       "      <th></th>\n",
       "      <th>model</th>\n",
       "      <th>cv_mean_roc_auc</th>\n",
       "      <th>accuracy</th>\n",
       "      <th>precision_score</th>\n",
       "      <th>recall</th>\n",
       "      <th>f1</th>\n",
       "      <th>roc_auc</th>\n",
       "    </tr>\n",
       "  </thead>\n",
       "  <tbody>\n",
       "    <tr>\n",
       "      <th>0</th>\n",
       "      <td>RandomForestClassifier(class_weight='balanced')</td>\n",
       "      <td>0.706</td>\n",
       "      <td>0.969</td>\n",
       "      <td>0.188</td>\n",
       "      <td>0.006</td>\n",
       "      <td>0.012</td>\n",
       "      <td>0.707</td>\n",
       "    </tr>\n",
       "    <tr>\n",
       "      <th>1</th>\n",
       "      <td>LogisticRegression(class_weight='balanced')</td>\n",
       "      <td>0.764</td>\n",
       "      <td>0.711</td>\n",
       "      <td>0.067</td>\n",
       "      <td>0.661</td>\n",
       "      <td>0.121</td>\n",
       "      <td>0.753</td>\n",
       "    </tr>\n",
       "    <tr>\n",
       "      <th>2</th>\n",
       "      <td>LGBMClassifier(class_weight='balanced', verbos...</td>\n",
       "      <td>0.762</td>\n",
       "      <td>0.747</td>\n",
       "      <td>0.072</td>\n",
       "      <td>0.620</td>\n",
       "      <td>0.129</td>\n",
       "      <td>0.755</td>\n",
       "    </tr>\n",
       "    <tr>\n",
       "      <th>3</th>\n",
       "      <td>&lt;catboost.core.CatBoostClassifier object at 0x...</td>\n",
       "      <td>0.732</td>\n",
       "      <td>0.874</td>\n",
       "      <td>0.093</td>\n",
       "      <td>0.361</td>\n",
       "      <td>0.148</td>\n",
       "      <td>0.729</td>\n",
       "    </tr>\n",
       "  </tbody>\n",
       "</table>\n",
       "</div>"
      ],
      "text/plain": [
       "                                               model  cv_mean_roc_auc  \\\n",
       "0    RandomForestClassifier(class_weight='balanced')            0.706   \n",
       "1        LogisticRegression(class_weight='balanced')            0.764   \n",
       "2  LGBMClassifier(class_weight='balanced', verbos...            0.762   \n",
       "3  <catboost.core.CatBoostClassifier object at 0x...            0.732   \n",
       "\n",
       "   accuracy  precision_score  recall     f1  roc_auc  \n",
       "0     0.969            0.188   0.006  0.012    0.707  \n",
       "1     0.711            0.067   0.661  0.121    0.753  \n",
       "2     0.747            0.072   0.620  0.129    0.755  \n",
       "3     0.874            0.093   0.361  0.148    0.729  "
      ]
     },
     "execution_count": 45,
     "metadata": {},
     "output_type": "execute_result"
    }
   ],
   "source": [
    "result_df"
   ]
  },
  {
   "cell_type": "markdown",
   "id": "4540e4b1-7f77-4a85-ad67-f2f688736968",
   "metadata": {
    "jp-MarkdownHeadingCollapsed": true
   },
   "source": [
    "### Тюнинг моделей"
   ]
  },
  {
   "cell_type": "markdown",
   "id": "b017042d-5487-49cb-94d9-4d1def482e63",
   "metadata": {
    "jp-MarkdownHeadingCollapsed": true
   },
   "source": [
    "#### LGBM Model"
   ]
  },
  {
   "cell_type": "code",
   "execution_count": 46,
   "id": "ce1c4c9c-b651-4bdb-9065-4a89c2aaca5e",
   "metadata": {},
   "outputs": [],
   "source": [
    "def lgbm_tuning(trial):\n",
    "    params = {\n",
    "        'boosting_type': 'gbdt',\n",
    "        'objective': 'binary',\n",
    "        'metric': 'auc',\n",
    "        'verbose': -1,\n",
    "        'class_weight': 'balanced',\n",
    "        \n",
    "        'learning_rate': trial.suggest_float('learning_rate', 0.01, 0.2),\n",
    "        'n_estimators': trial.suggest_int('n_estimators', 100, 300),\n",
    "        'reg_alpha': trial.suggest_float('reg_alpha', 0.1, 1),\n",
    "        'reg_lambda': trial.suggest_float('reg_lambda', 0.1, 1)\n",
    "    }\n",
    "    \n",
    "    model = LGBMClassifier(**params)\n",
    "    model.fit(x_train, y_train, eval_set=[(x_test, y_test)])\n",
    "    \n",
    "    y_pred = model.predict_proba(x_test)[:, 1]\n",
    "    score = roc_auc_score(y_test, y_pred)\n",
    "    return score"
   ]
  },
  {
   "cell_type": "code",
   "execution_count": 47,
   "id": "e56f5b1b-4caa-4892-bc42-a7484b803739",
   "metadata": {},
   "outputs": [
    {
     "name": "stderr",
     "output_type": "stream",
     "text": [
      "[I 2025-02-02 19:07:40,850] A new study created in memory with name: no-name-3589f927-bac7-4a74-b2e5-88dee2c3c8b6\n",
      "[I 2025-02-02 19:08:37,833] Trial 0 finished with value: 0.744640924311789 and parameters: {'learning_rate': 0.09244955036989178, 'n_estimators': 288, 'reg_alpha': 0.40129954301310866, 'reg_lambda': 0.677440405948118}. Best is trial 0 with value: 0.744640924311789.\n",
      "[I 2025-02-02 19:09:06,904] Trial 1 finished with value: 0.7437878171390377 and parameters: {'learning_rate': 0.1802003950243681, 'n_estimators': 102, 'reg_alpha': 0.8364565256457746, 'reg_lambda': 0.9052952456943255}. Best is trial 0 with value: 0.744640924311789.\n",
      "[I 2025-02-02 19:09:45,474] Trial 2 finished with value: 0.7395791009468276 and parameters: {'learning_rate': 0.15858361221771275, 'n_estimators': 176, 'reg_alpha': 0.20500152598271304, 'reg_lambda': 0.6612644479321779}. Best is trial 0 with value: 0.744640924311789.\n",
      "[I 2025-02-02 19:10:30,404] Trial 3 finished with value: 0.7559724292336788 and parameters: {'learning_rate': 0.0808439859148938, 'n_estimators': 196, 'reg_alpha': 0.24717892092436194, 'reg_lambda': 0.5157957173718217}. Best is trial 3 with value: 0.7559724292336788.\n",
      "[I 2025-02-02 19:11:17,974] Trial 4 finished with value: 0.7199815690252072 and parameters: {'learning_rate': 0.17138738147016022, 'n_estimators': 247, 'reg_alpha': 0.21146842065089516, 'reg_lambda': 0.27001645382280265}. Best is trial 3 with value: 0.7559724292336788.\n",
      "[I 2025-02-02 19:12:10,796] Trial 5 finished with value: 0.750615663593368 and parameters: {'learning_rate': 0.08814403994387142, 'n_estimators': 245, 'reg_alpha': 0.9594460888968726, 'reg_lambda': 0.35854448510517245}. Best is trial 3 with value: 0.7559724292336788.\n",
      "[I 2025-02-02 19:12:45,473] Trial 6 finished with value: 0.7395576997349649 and parameters: {'learning_rate': 0.1733042768815143, 'n_estimators': 137, 'reg_alpha': 0.44430185269370714, 'reg_lambda': 0.622651437773279}. Best is trial 3 with value: 0.7559724292336788.\n",
      "[I 2025-02-02 19:13:24,323] Trial 7 finished with value: 0.7532652714741679 and parameters: {'learning_rate': 0.10654689997085401, 'n_estimators': 158, 'reg_alpha': 0.20011514925953572, 'reg_lambda': 0.8876275225586968}. Best is trial 3 with value: 0.7559724292336788.\n",
      "[I 2025-02-02 19:14:12,707] Trial 8 finished with value: 0.7463258739327494 and parameters: {'learning_rate': 0.11037382027439555, 'n_estimators': 241, 'reg_alpha': 0.4730994851857614, 'reg_lambda': 0.19348182169112055}. Best is trial 3 with value: 0.7559724292336788.\n",
      "[I 2025-02-02 19:14:51,847] Trial 9 finished with value: 0.751955771174585 and parameters: {'learning_rate': 0.10855007453198708, 'n_estimators': 165, 'reg_alpha': 0.9191597408908165, 'reg_lambda': 0.25417712144286864}. Best is trial 3 with value: 0.7559724292336788.\n",
      "[I 2025-02-02 19:15:54,420] Trial 10 finished with value: 0.757508321051863 and parameters: {'learning_rate': 0.015844332853095652, 'n_estimators': 216, 'reg_alpha': 0.6975112658545055, 'reg_lambda': 0.4419268620006272}. Best is trial 10 with value: 0.757508321051863.\n",
      "[I 2025-02-02 19:16:55,908] Trial 11 finished with value: 0.7543741422369035 and parameters: {'learning_rate': 0.012983622189107313, 'n_estimators': 212, 'reg_alpha': 0.6680764192327538, 'reg_lambda': 0.45868058209859147}. Best is trial 10 with value: 0.757508321051863.\n",
      "[I 2025-02-02 19:17:57,177] Trial 12 finished with value: 0.7596423480792732 and parameters: {'learning_rate': 0.019621781606942168, 'n_estimators': 209, 'reg_alpha': 0.6772348206684273, 'reg_lambda': 0.46208416321822887}. Best is trial 12 with value: 0.7596423480792732.\n",
      "[I 2025-02-02 19:19:00,051] Trial 13 finished with value: 0.7551912235813949 and parameters: {'learning_rate': 0.01337694843172594, 'n_estimators': 213, 'reg_alpha': 0.7228577529126066, 'reg_lambda': 0.4267643797594091}. Best is trial 12 with value: 0.7596423480792732.\n",
      "[I 2025-02-02 19:20:01,600] Trial 14 finished with value: 0.7567932912769495 and parameters: {'learning_rate': 0.04948052697056567, 'n_estimators': 281, 'reg_alpha': 0.6327981254518426, 'reg_lambda': 0.1211915533462809}. Best is trial 12 with value: 0.7596423480792732.\n",
      "[I 2025-02-02 19:20:50,550] Trial 15 finished with value: 0.7597090699059256 and parameters: {'learning_rate': 0.05465312177053799, 'n_estimators': 194, 'reg_alpha': 0.7848662794276824, 'reg_lambda': 0.7690003789053361}. Best is trial 15 with value: 0.7597090699059256.\n",
      "[I 2025-02-02 19:21:31,408] Trial 16 finished with value: 0.7610173076977934 and parameters: {'learning_rate': 0.05247154720241421, 'n_estimators': 133, 'reg_alpha': 0.815390925213284, 'reg_lambda': 0.7700898756050937}. Best is trial 16 with value: 0.7610173076977934.\n",
      "[I 2025-02-02 19:22:10,813] Trial 17 finished with value: 0.7608888321829568 and parameters: {'learning_rate': 0.05248021253414483, 'n_estimators': 122, 'reg_alpha': 0.8554233094897125, 'reg_lambda': 0.7907621063065136}. Best is trial 16 with value: 0.7610173076977934.\n",
      "[I 2025-02-02 19:22:46,439] Trial 18 finished with value: 0.7595815770997971 and parameters: {'learning_rate': 0.05216534891942892, 'n_estimators': 102, 'reg_alpha': 0.8507533067432898, 'reg_lambda': 0.7952585283403418}. Best is trial 16 with value: 0.7610173076977934.\n",
      "[I 2025-02-02 19:23:20,586] Trial 19 finished with value: 0.7466395217953804 and parameters: {'learning_rate': 0.1417741901144433, 'n_estimators': 130, 'reg_alpha': 0.5708468070787643, 'reg_lambda': 0.957831374574678}. Best is trial 16 with value: 0.7610173076977934.\n",
      "[I 2025-02-02 19:23:58,786] Trial 20 finished with value: 0.7598768469447157 and parameters: {'learning_rate': 0.06745045285391987, 'n_estimators': 131, 'reg_alpha': 0.9963407152751474, 'reg_lambda': 0.7848646993175091}. Best is trial 16 with value: 0.7610173076977934.\n",
      "[I 2025-02-02 19:24:37,795] Trial 21 finished with value: 0.7598932868424763 and parameters: {'learning_rate': 0.0687674001743937, 'n_estimators': 137, 'reg_alpha': 0.9870826776435631, 'reg_lambda': 0.7685870130111827}. Best is trial 16 with value: 0.7610173076977934.\n",
      "[I 2025-02-02 19:25:22,381] Trial 22 finished with value: 0.7607118695474937 and parameters: {'learning_rate': 0.03407304387940936, 'n_estimators': 144, 'reg_alpha': 0.869902076886971, 'reg_lambda': 0.7242063164303395}. Best is trial 16 with value: 0.7610173076977934.\n",
      "[I 2025-02-02 19:26:01,628] Trial 23 finished with value: 0.7594876806476225 and parameters: {'learning_rate': 0.037489381887968964, 'n_estimators': 116, 'reg_alpha': 0.8907475463669864, 'reg_lambda': 0.5812535704084435}. Best is trial 16 with value: 0.7610173076977934.\n",
      "[I 2025-02-02 19:26:47,771] Trial 24 finished with value: 0.7601406496378806 and parameters: {'learning_rate': 0.035363382754056205, 'n_estimators': 153, 'reg_alpha': 0.7793300397282835, 'reg_lambda': 0.8659370789254975}. Best is trial 16 with value: 0.7610173076977934.\n",
      "[I 2025-02-02 19:27:20,585] Trial 25 finished with value: 0.7541386265409231 and parameters: {'learning_rate': 0.12568529778311477, 'n_estimators': 117, 'reg_alpha': 0.780345536027167, 'reg_lambda': 0.7103597302378974}. Best is trial 16 with value: 0.7610173076977934.\n",
      "[I 2025-02-02 19:28:07,661] Trial 26 finished with value: 0.7609194121671267 and parameters: {'learning_rate': 0.035533215163613824, 'n_estimators': 149, 'reg_alpha': 0.8799279843385511, 'reg_lambda': 0.9690273519078157}. Best is trial 16 with value: 0.7610173076977934.\n",
      "[I 2025-02-02 19:28:51,925] Trial 27 finished with value: 0.7570398078509664 and parameters: {'learning_rate': 0.07012465817514119, 'n_estimators': 173, 'reg_alpha': 0.5572869292189824, 'reg_lambda': 0.9651762798119825}. Best is trial 16 with value: 0.7610173076977934.\n",
      "[I 2025-02-02 19:29:24,167] Trial 28 finished with value: 0.7452053744503024 and parameters: {'learning_rate': 0.19538947824738262, 'n_estimators': 118, 'reg_alpha': 0.9229076846093105, 'reg_lambda': 0.9958098355909009}. Best is trial 16 with value: 0.7610173076977934.\n",
      "[I 2025-02-02 19:30:18,124] Trial 29 finished with value: 0.7593076402230808 and parameters: {'learning_rate': 0.02919498589689605, 'n_estimators': 183, 'reg_alpha': 0.3188584068881497, 'reg_lambda': 0.8378663845865528}. Best is trial 16 with value: 0.7610173076977934.\n"
     ]
    },
    {
     "name": "stdout",
     "output_type": "stream",
     "text": [
      "Лучшие гиперпараметры: {'learning_rate': 0.05247154720241421, 'n_estimators': 133, 'reg_alpha': 0.815390925213284, 'reg_lambda': 0.7700898756050937}\n"
     ]
    }
   ],
   "source": [
    "study = optuna.create_study(direction='maximize')\n",
    "study.optimize(lgbm_tuning, n_trials=30)\n",
    "\n",
    "lgbm_best_params = study.best_params\n",
    "print(f'Лучшие гиперпараметры: {lgbm_best_params}')"
   ]
  },
  {
   "cell_type": "markdown",
   "id": "defcabe4-803e-4102-8e25-c308fa62c40a",
   "metadata": {
    "jp-MarkdownHeadingCollapsed": true
   },
   "source": [
    "#### Catboost Model"
   ]
  },
  {
   "cell_type": "code",
   "execution_count": 48,
   "id": "c195b433-1758-4522-86bd-f40e79163301",
   "metadata": {},
   "outputs": [],
   "source": [
    "def catboost_tuning(trial):\n",
    "    params = {\n",
    "        'iterations': trial.suggest_int('iterations', 100, 500),\n",
    "        'depth': trial.suggest_int('depth', 3, 12),\n",
    "        'learning_rate': trial.suggest_loguniform('learning_rate', 1e-3, 1e-1),\n",
    "        'l2_leaf_reg': trial.suggest_loguniform('l2_leaf_reg', 1e-8, 10.0),\n",
    "        'random_strength': trial.suggest_uniform('random_strength', 1e-9, 10),\n",
    "        'bagging_temperature': trial.suggest_uniform('bagging_temperature', 0.0, 1.0),\n",
    "        'od_type': 'Iter',\n",
    "        'od_wait': 20,\n",
    "        'eval_metric': 'AUC',\n",
    "        'class_weights': {0: 1.0, 1: 30.0}}\n",
    "    \n",
    "    model = CatBoostClassifier(**params)\n",
    "    model.fit(\n",
    "        x_train, y_train,\n",
    "        eval_set=(x_test, y_test),\n",
    "        use_best_model=True,\n",
    "        verbose=0)\n",
    "    \n",
    "    y_pred = model.predict_proba(x_test)[:, 1]\n",
    "    score = roc_auc_score(y_test, y_pred)\n",
    "    \n",
    "    return score"
   ]
  },
  {
   "cell_type": "code",
   "execution_count": 49,
   "id": "57882280-013e-4d3b-a735-39113fb83f95",
   "metadata": {},
   "outputs": [
    {
     "name": "stderr",
     "output_type": "stream",
     "text": [
      "[I 2025-02-02 19:38:59,974] A new study created in memory with name: no-name-8ea16d85-9500-47c4-940b-20c9c208f86e\n",
      "[I 2025-02-02 19:54:22,363] Trial 0 finished with value: 0.7138859702212784 and parameters: {'iterations': 221, 'depth': 12, 'learning_rate': 0.0021744849781385766, 'l2_leaf_reg': 0.2291534356948615, 'random_strength': 9.33329420337949, 'bagging_temperature': 0.4486210237712537}. Best is trial 0 with value: 0.7138859702212784.\n",
      "[I 2025-02-02 19:56:01,905] Trial 1 finished with value: 0.7039038881402331 and parameters: {'iterations': 351, 'depth': 6, 'learning_rate': 0.0012988411487768446, 'l2_leaf_reg': 0.0036821866092307184, 'random_strength': 6.0367962777276185, 'bagging_temperature': 0.20799427414805005}. Best is trial 0 with value: 0.7138859702212784.\n",
      "[I 2025-02-02 20:14:57,203] Trial 2 finished with value: 0.7376825618571797 and parameters: {'iterations': 360, 'depth': 10, 'learning_rate': 0.004224608818119142, 'l2_leaf_reg': 0.3803053230577157, 'random_strength': 0.38025780453460317, 'bagging_temperature': 0.9958407124085309}. Best is trial 2 with value: 0.7376825618571797.\n",
      "[I 2025-02-02 20:30:33,899] Trial 3 finished with value: 0.729032323050092 and parameters: {'iterations': 128, 'depth': 12, 'learning_rate': 0.03405371744741825, 'l2_leaf_reg': 0.02837419567495227, 'random_strength': 7.526610714575881, 'bagging_temperature': 0.11869001573986804}. Best is trial 2 with value: 0.7376825618571797.\n",
      "[I 2025-02-02 20:32:47,960] Trial 4 finished with value: 0.7257615067785268 and parameters: {'iterations': 145, 'depth': 7, 'learning_rate': 0.004390278344225168, 'l2_leaf_reg': 0.7375749230337255, 'random_strength': 1.8880322202834123, 'bagging_temperature': 0.9848702880940405}. Best is trial 2 with value: 0.7376825618571797.\n",
      "[I 2025-02-02 20:35:43,319] Trial 5 finished with value: 0.739445943916896 and parameters: {'iterations': 362, 'depth': 5, 'learning_rate': 0.033152905495344845, 'l2_leaf_reg': 5.088794123347937e-06, 'random_strength': 9.104984211944972, 'bagging_temperature': 0.00974627408153017}. Best is trial 5 with value: 0.739445943916896.\n",
      "[I 2025-02-02 20:57:44,610] Trial 6 finished with value: 0.7146540935638872 and parameters: {'iterations': 357, 'depth': 12, 'learning_rate': 0.010426256111961478, 'l2_leaf_reg': 1.7381261327112837e-08, 'random_strength': 8.666626041848128, 'bagging_temperature': 0.08819872427572562}. Best is trial 5 with value: 0.739445943916896.\n",
      "[I 2025-02-02 20:59:40,998] Trial 7 finished with value: 0.725537756289578 and parameters: {'iterations': 215, 'depth': 3, 'learning_rate': 0.013723037489404516, 'l2_leaf_reg': 1.187778182104406e-06, 'random_strength': 3.9702923214886607, 'bagging_temperature': 0.8143809788594051}. Best is trial 5 with value: 0.739445943916896.\n",
      "[I 2025-02-02 21:01:30,267] Trial 8 finished with value: 0.7100338135052812 and parameters: {'iterations': 170, 'depth': 8, 'learning_rate': 0.0019163004894999793, 'l2_leaf_reg': 0.03467931644125273, 'random_strength': 6.706537426253443, 'bagging_temperature': 0.33824616314839784}. Best is trial 5 with value: 0.739445943916896.\n",
      "[I 2025-02-02 21:06:42,572] Trial 9 finished with value: 0.6930436944093115 and parameters: {'iterations': 473, 'depth': 12, 'learning_rate': 0.09650803103242167, 'l2_leaf_reg': 0.0044401151995307345, 'random_strength': 3.5683574809395178, 'bagging_temperature': 0.9777529767994396}. Best is trial 5 with value: 0.739445943916896.\n",
      "[I 2025-02-02 21:09:45,030] Trial 10 finished with value: 0.7514759977697426 and parameters: {'iterations': 473, 'depth': 3, 'learning_rate': 0.03596017597562827, 'l2_leaf_reg': 2.1296678718693604e-05, 'random_strength': 9.799816114861773, 'bagging_temperature': 0.6242013021537438}. Best is trial 10 with value: 0.7514759977697426.\n",
      "[I 2025-02-02 21:11:44,889] Trial 11 finished with value: 0.729800016457641 and parameters: {'iterations': 498, 'depth': 3, 'learning_rate': 0.0363995941907399, 'l2_leaf_reg': 2.0584832607520345e-05, 'random_strength': 9.933154697252263, 'bagging_temperature': 0.646004637873424}. Best is trial 10 with value: 0.7514759977697426.\n",
      "[I 2025-02-02 21:15:06,391] Trial 12 finished with value: 0.7426218332570165 and parameters: {'iterations': 432, 'depth': 5, 'learning_rate': 0.03063844197798012, 'l2_leaf_reg': 2.0624864662797563e-05, 'random_strength': 8.233994003105257, 'bagging_temperature': 0.6252601243673375}. Best is trial 10 with value: 0.7514759977697426.\n",
      "[I 2025-02-02 21:17:11,927] Trial 13 finished with value: 0.7529756249068559 and parameters: {'iterations': 429, 'depth': 4, 'learning_rate': 0.09749091899805967, 'l2_leaf_reg': 7.460961556630266e-05, 'random_strength': 7.898532592556583, 'bagging_temperature': 0.626225266783989}. Best is trial 13 with value: 0.7529756249068559.\n",
      "[I 2025-02-02 21:19:19,575] Trial 14 finished with value: 0.7541482079508259 and parameters: {'iterations': 423, 'depth': 4, 'learning_rate': 0.09909546989637107, 'l2_leaf_reg': 0.0003860921549932108, 'random_strength': 5.428432055656702, 'bagging_temperature': 0.6642472135631468}. Best is trial 14 with value: 0.7541482079508259.\n",
      "[I 2025-02-02 21:21:26,834] Trial 15 finished with value: 0.7505852405696167 and parameters: {'iterations': 420, 'depth': 5, 'learning_rate': 0.08614392825692337, 'l2_leaf_reg': 0.0007489830456062575, 'random_strength': 5.22064123471025, 'bagging_temperature': 0.759126179602625}. Best is trial 14 with value: 0.7541482079508259.\n",
      "[I 2025-02-02 21:23:49,922] Trial 16 finished with value: 0.7540041933545444 and parameters: {'iterations': 287, 'depth': 4, 'learning_rate': 0.06304824036764, 'l2_leaf_reg': 4.267705697750417e-07, 'random_strength': 7.021873452082323, 'bagging_temperature': 0.467828719085617}. Best is trial 14 with value: 0.7541482079508259.\n",
      "[I 2025-02-02 21:26:08,989] Trial 17 finished with value: 0.7369498160280581 and parameters: {'iterations': 293, 'depth': 8, 'learning_rate': 0.05668843638915966, 'l2_leaf_reg': 1.0899303543279975e-07, 'random_strength': 4.84261509933955, 'bagging_temperature': 0.4445449603562632}. Best is trial 14 with value: 0.7541482079508259.\n",
      "[I 2025-02-02 21:29:19,623] Trial 18 finished with value: 0.7399077009954254 and parameters: {'iterations': 282, 'depth': 7, 'learning_rate': 0.020037582920756934, 'l2_leaf_reg': 6.531184707941196, 'random_strength': 6.601517279000352, 'bagging_temperature': 0.33082713351095105}. Best is trial 14 with value: 0.7541482079508259.\n",
      "[I 2025-02-02 21:31:32,574] Trial 19 finished with value: 0.7515327764950926 and parameters: {'iterations': 247, 'depth': 4, 'learning_rate': 0.05256704216675367, 'l2_leaf_reg': 1.2310452800850793e-06, 'random_strength': 2.9636133662242905, 'bagging_temperature': 0.7652068463038447}. Best is trial 14 with value: 0.7541482079508259.\n",
      "[I 2025-02-02 21:35:30,919] Trial 20 finished with value: 0.7317353452437901 and parameters: {'iterations': 333, 'depth': 9, 'learning_rate': 0.02048713581575131, 'l2_leaf_reg': 0.00026750566509894133, 'random_strength': 5.316816641631895, 'bagging_temperature': 0.5357161977817714}. Best is trial 14 with value: 0.7541482079508259.\n",
      "[I 2025-02-02 21:38:22,273] Trial 21 finished with value: 0.7559803523226368 and parameters: {'iterations': 412, 'depth': 4, 'learning_rate': 0.06331467163380282, 'l2_leaf_reg': 3.2847117601301244e-07, 'random_strength': 7.409689871434082, 'bagging_temperature': 0.5329288099849571}. Best is trial 21 with value: 0.7559803523226368.\n",
      "[I 2025-02-02 21:40:52,241] Trial 22 finished with value: 0.7550250775660854 and parameters: {'iterations': 396, 'depth': 4, 'learning_rate': 0.06153567985301824, 'l2_leaf_reg': 2.5847889399026053e-07, 'random_strength': 7.102551745136375, 'bagging_temperature': 0.5123684710675791}. Best is trial 21 with value: 0.7559803523226368.\n",
      "[I 2025-02-02 21:42:46,794] Trial 23 finished with value: 0.7411278635193401 and parameters: {'iterations': 406, 'depth': 5, 'learning_rate': 0.06170818672865078, 'l2_leaf_reg': 1.2737033619126823e-07, 'random_strength': 6.075397974220074, 'bagging_temperature': 0.352224550429343}. Best is trial 21 with value: 0.7559803523226368.\n",
      "[I 2025-02-02 21:46:20,689] Trial 24 finished with value: 0.7380817599723334 and parameters: {'iterations': 388, 'depth': 6, 'learning_rate': 0.019641961711036427, 'l2_leaf_reg': 1.0279914551294448e-08, 'random_strength': 7.472811391994917, 'bagging_temperature': 0.5427358001183931}. Best is trial 21 with value: 0.7559803523226368.\n",
      "[I 2025-02-02 21:48:05,635] Trial 25 finished with value: 0.7409299705532701 and parameters: {'iterations': 456, 'depth': 6, 'learning_rate': 0.06935397696325664, 'l2_leaf_reg': 7.270977442106014e-08, 'random_strength': 4.575688842345521, 'bagging_temperature': 0.7071951063833726}. Best is trial 21 with value: 0.7559803523226368.\n",
      "[I 2025-02-02 21:49:26,355] Trial 26 finished with value: 0.7035264938745378 and parameters: {'iterations': 395, 'depth': 4, 'learning_rate': 0.006047437479946258, 'l2_leaf_reg': 4.644714768837426e-06, 'random_strength': 5.9110450548202405, 'bagging_temperature': 0.8499926693837445}. Best is trial 21 with value: 0.7559803523226368.\n",
      "[I 2025-02-02 21:51:46,748] Trial 27 finished with value: 0.7465196791035686 and parameters: {'iterations': 325, 'depth': 3, 'learning_rate': 0.04591887039344738, 'l2_leaf_reg': 0.00020112780223668174, 'random_strength': 8.386740967881275, 'bagging_temperature': 0.5535849187257688}. Best is trial 21 with value: 0.7559803523226368.\n",
      "[I 2025-02-02 21:55:05,901] Trial 28 finished with value: 0.7416654666019007 and parameters: {'iterations': 452, 'depth': 4, 'learning_rate': 0.025157343058794763, 'l2_leaf_reg': 0.0018091843605197201, 'random_strength': 7.045641691390743, 'bagging_temperature': 0.27223265310285355}. Best is trial 21 with value: 0.7559803523226368.\n",
      "[I 2025-02-02 21:57:05,470] Trial 29 finished with value: 0.7489307958647998 and parameters: {'iterations': 401, 'depth': 6, 'learning_rate': 0.073428358406182, 'l2_leaf_reg': 4.87384614986768e-07, 'random_strength': 2.684165644849248, 'bagging_temperature': 0.4006895469987819}. Best is trial 21 with value: 0.7559803523226368.\n"
     ]
    },
    {
     "name": "stdout",
     "output_type": "stream",
     "text": [
      "Лучшие гиперпараметры: {'iterations': 412, 'depth': 4, 'learning_rate': 0.06331467163380282, 'l2_leaf_reg': 3.2847117601301244e-07, 'random_strength': 7.409689871434082, 'bagging_temperature': 0.5329288099849571}\n"
     ]
    }
   ],
   "source": [
    "study = optuna.create_study(direction='maximize')\n",
    "study.optimize(catboost_tuning, n_trials=30)\n",
    "\n",
    "catboost_best_param = study.best_params\n",
    "print(f'Лучшие гиперпараметры: {catboost_best_param}')"
   ]
  },
  {
   "cell_type": "markdown",
   "id": "325358ee-82a7-44c1-a399-9bbb8d7c7ca0",
   "metadata": {
    "jp-MarkdownHeadingCollapsed": true
   },
   "source": [
    "#### Выбор финальной модели"
   ]
  },
  {
   "cell_type": "code",
   "execution_count": 29,
   "id": "c2d7a070-434c-4a28-a22d-06afcfaea077",
   "metadata": {},
   "outputs": [],
   "source": [
    "lgbm_best_params = {'boosting_type': 'gbdt',\n",
    "                    'objective': 'binary',\n",
    "                    'metric': 'auc',\n",
    "                    'verbose': 0,\n",
    "                    'class_weight': 'balanced',\n",
    "                    'learning_rate': 0.05247154720241421,\n",
    "                    'n_estimators': 133,\n",
    "                    'reg_alpha': 0.815390925213284,\n",
    "                    'reg_lambda': 0.7700898756050937}\n",
    "\n",
    "\n",
    "catboost_best_params = {'iterations': 412,\n",
    "                        'depth': 4,\n",
    "                        'learning_rate': 0.06331467163380282,\n",
    "                        'l2_leaf_reg': 3.2847117601301244e-07,\n",
    "                        'random_strength': 7.409689871434082,\n",
    "                        'bagging_temperature': 0.5329288099849571,\n",
    "                        'od_type': 'Iter',\n",
    "                        'od_wait': 20,\n",
    "                        'eval_metric': 'AUC',\n",
    "                        'class_weights': {0: 1.0, 1: 30.0},\n",
    "                        'verbose': 0}"
   ]
  },
  {
   "cell_type": "code",
   "execution_count": 52,
   "id": "761f13b8-525d-4507-a322-9643aafdac93",
   "metadata": {},
   "outputs": [],
   "source": [
    "models = [LGBMClassifier(**lgbm_best_params), \n",
    "          CatBoostClassifier(**catboost_best_params)]\n",
    "\n",
    "for model in models:\n",
    "    model.fit(x_train, y_train)\n",
    "    \n",
    "    kfold = KFold(n_splits=5, shuffle=True, random_state=42)\n",
    "    cv_scores = cross_val_score(model, x_train, y_train, cv=kfold, scoring='roc_auc')\n",
    "\n",
    "    y_pred = model.predict(x_test)\n",
    "    \n",
    "    accuracy = accuracy_score(y_test, y_pred)\n",
    "    precision = precision_score(y_test, y_pred)\n",
    "    recall = recall_score(y_test, y_pred)\n",
    "    f1 = f1_score(y_test, y_pred)\n",
    "    roc_auc = roc_auc_score(y_test, model.predict_proba(x_test)[:, 1])\n",
    "\n",
    "    model_metrics.append({\n",
    "        'model': (f'{model}_tuned'),\n",
    "        'cv_mean_roc_auc': round(cv_scores.mean(), 3),\n",
    "        'accuracy': round(accuracy, 3),\n",
    "        'precision_score': round(precision, 3),\n",
    "        'recall': round(recall, 3),\n",
    "        'f1': round(f1, 3),\n",
    "        'roc_auc': round(roc_auc, 3)\n",
    "    })\n",
    "\n",
    "result_df = pd.DataFrame(model_metrics)"
   ]
  },
  {
   "cell_type": "code",
   "execution_count": 57,
   "id": "42cb7e44-fe52-447d-9df5-358b04fafc60",
   "metadata": {},
   "outputs": [
    {
     "data": {
      "text/html": [
       "<div>\n",
       "<style scoped>\n",
       "    .dataframe tbody tr th:only-of-type {\n",
       "        vertical-align: middle;\n",
       "    }\n",
       "\n",
       "    .dataframe tbody tr th {\n",
       "        vertical-align: top;\n",
       "    }\n",
       "\n",
       "    .dataframe thead th {\n",
       "        text-align: right;\n",
       "    }\n",
       "</style>\n",
       "<table border=\"1\" class=\"dataframe\">\n",
       "  <thead>\n",
       "    <tr style=\"text-align: right;\">\n",
       "      <th></th>\n",
       "      <th>model</th>\n",
       "      <th>cv_mean_roc_auc</th>\n",
       "      <th>accuracy</th>\n",
       "      <th>precision_score</th>\n",
       "      <th>recall</th>\n",
       "      <th>f1</th>\n",
       "      <th>roc_auc</th>\n",
       "    </tr>\n",
       "  </thead>\n",
       "  <tbody>\n",
       "    <tr>\n",
       "      <th>0</th>\n",
       "      <td>RandomForest_default</td>\n",
       "      <td>0.706</td>\n",
       "      <td>0.969</td>\n",
       "      <td>0.188</td>\n",
       "      <td>0.006</td>\n",
       "      <td>0.012</td>\n",
       "      <td>0.707</td>\n",
       "    </tr>\n",
       "    <tr>\n",
       "      <th>1</th>\n",
       "      <td>LogisticRegression_default</td>\n",
       "      <td>0.764</td>\n",
       "      <td>0.711</td>\n",
       "      <td>0.067</td>\n",
       "      <td>0.661</td>\n",
       "      <td>0.121</td>\n",
       "      <td>0.753</td>\n",
       "    </tr>\n",
       "    <tr>\n",
       "      <th>2</th>\n",
       "      <td>LightGBMClassifier_default</td>\n",
       "      <td>0.762</td>\n",
       "      <td>0.747</td>\n",
       "      <td>0.072</td>\n",
       "      <td>0.620</td>\n",
       "      <td>0.129</td>\n",
       "      <td>0.755</td>\n",
       "    </tr>\n",
       "    <tr>\n",
       "      <th>3</th>\n",
       "      <td>CatboostClassifier_default</td>\n",
       "      <td>0.732</td>\n",
       "      <td>0.874</td>\n",
       "      <td>0.093</td>\n",
       "      <td>0.361</td>\n",
       "      <td>0.148</td>\n",
       "      <td>0.729</td>\n",
       "    </tr>\n",
       "    <tr>\n",
       "      <th>5</th>\n",
       "      <td>LightGBMClassifier_tuned</td>\n",
       "      <td>0.766</td>\n",
       "      <td>0.732</td>\n",
       "      <td>0.071</td>\n",
       "      <td>0.652</td>\n",
       "      <td>0.128</td>\n",
       "      <td>0.761</td>\n",
       "    </tr>\n",
       "    <tr>\n",
       "      <th>6</th>\n",
       "      <td>CatboostClassifier_tuned</td>\n",
       "      <td>0.760</td>\n",
       "      <td>0.735</td>\n",
       "      <td>0.070</td>\n",
       "      <td>0.629</td>\n",
       "      <td>0.126</td>\n",
       "      <td>0.755</td>\n",
       "    </tr>\n",
       "  </tbody>\n",
       "</table>\n",
       "</div>"
      ],
      "text/plain": [
       "                        model  cv_mean_roc_auc  accuracy  precision_score  \\\n",
       "0        RandomForest_default            0.706     0.969            0.188   \n",
       "1  LogisticRegression_default            0.764     0.711            0.067   \n",
       "2  LightGBMClassifier_default            0.762     0.747            0.072   \n",
       "3  CatboostClassifier_default            0.732     0.874            0.093   \n",
       "5    LightGBMClassifier_tuned            0.766     0.732            0.071   \n",
       "6    CatboostClassifier_tuned            0.760     0.735            0.070   \n",
       "\n",
       "   recall     f1  roc_auc  \n",
       "0   0.006  0.012    0.707  \n",
       "1   0.661  0.121    0.753  \n",
       "2   0.620  0.129    0.755  \n",
       "3   0.361  0.148    0.729  \n",
       "5   0.652  0.128    0.761  \n",
       "6   0.629  0.126    0.755  "
      ]
     },
     "execution_count": 57,
     "metadata": {},
     "output_type": "execute_result"
    }
   ],
   "source": [
    "result_df"
   ]
  },
  {
   "cell_type": "markdown",
   "id": "892d719d-e629-44c4-ab7a-1580c0c748f8",
   "metadata": {
    "jp-MarkdownHeadingCollapsed": true
   },
   "source": [
    "### Модель на полном объеме данных"
   ]
  },
  {
   "cell_type": "code",
   "execution_count": 31,
   "id": "51ddde3c-6f45-435a-a00f-9d6f128e9e52",
   "metadata": {},
   "outputs": [],
   "source": [
    "final_lgbm_best_params = {\n",
    "        'learning_rate': 0.08,\n",
    "        'n_estimators': 300,\n",
    "        'reg_alpha': 0.1,\n",
    "        'reg_lambda': 0.4,\n",
    "        'metric': 'auc',\n",
    "        'class_weight': 'balanced',\n",
    "        'verbose': 0\n",
    "    }"
   ]
  },
  {
   "cell_type": "code",
   "execution_count": 32,
   "id": "13c33bf2-269e-4969-8fc8-280bca1c3d95",
   "metadata": {},
   "outputs": [
    {
     "name": "stdout",
     "output_type": "stream",
     "text": [
      "              precision    recall  f1-score   support\n",
      "\n",
      "           0       0.98      0.68      0.80    578683\n",
      "           1       0.08      0.71      0.14     21317\n",
      "\n",
      "    accuracy                           0.68    600000\n",
      "   macro avg       0.53      0.69      0.47    600000\n",
      "weighted avg       0.95      0.68      0.78    600000\n",
      "\n",
      "Accuracy: 0.680\n",
      "Precision: 0.075\n",
      "Recall: 0.708\n",
      "F1 Score: 0.136\n",
      "ROC AUC: 0.762\n"
     ]
    }
   ],
   "source": [
    "model = LGBMClassifier(**final_lgbm_best_params)\n",
    "model.fit(x_train, y_train)\n",
    "\n",
    "y_pred = model.predict(x_test)\n",
    "    \n",
    "accuracy = accuracy_score(y_test, y_pred)\n",
    "precision = precision_score(y_test, y_pred)\n",
    "recall = recall_score(y_test, y_pred)\n",
    "f1 = f1_score(y_test, y_pred)\n",
    "roc_auc = roc_auc_score(y_test, model.predict_proba(x_test)[:, 1])\n",
    "\n",
    "print(classification_report(y_test, y_pred))\n",
    "\n",
    "print(f\"Accuracy: {accuracy:.3f}\")\n",
    "print(f\"Precision: {precision:.3f}\")\n",
    "print(f\"Recall: {recall:.3f}\")\n",
    "print(f\"F1 Score: {f1:.3f}\")\n",
    "print(f\"ROC AUC: {roc_auc:.3f}\")"
   ]
  },
  {
   "cell_type": "code",
   "execution_count": 33,
   "id": "94b9b78d-5408-4749-9f46-c91d902c4895",
   "metadata": {},
   "outputs": [
    {
     "data": {
      "image/png": "[encoded data removed]",
      "text/plain": [
       "<Figure size 500x400 with 1 Axes>"
      ]
     },
     "metadata": {},
     "output_type": "display_data"
    }
   ],
   "source": [
    "cm = confusion_matrix(y_test, y_pred)\n",
    "\n",
    "plt.figure(figsize=(5, 4))\n",
    "sns.heatmap(cm, annot=True, fmt='d', cmap='Blues', cbar=False)\n",
    "plt.xlabel('Predicted Label')\n",
    "plt.ylabel('True Label')\n",
    "plt.title('Confusion Matrix')\n",
    "plt.show()"
   ]
  },
  {
   "cell_type": "code",
   "execution_count": 34,
   "id": "0ae27f02-dc70-437e-ba35-2c888cffcef7",
   "metadata": {},
   "outputs": [
    {
     "data": {
      "image/png": "[encoded data removed]",
      "text/plain": [
       "<Figure size 500x400 with 1 Axes>"
      ]
     },
     "metadata": {},
     "output_type": "display_data"
    }
   ],
   "source": [
    "probs = model.predict_proba(x_test)[:, 1]\n",
    "fpr, tpr, thresholds = roc_curve(y_test, probs)\n",
    "\n",
    "roc_auc = auc(fpr, tpr)\n",
    "\n",
    "plt.figure(figsize=(5, 4))\n",
    "plt.plot(fpr, tpr, label=f'AUC = {roc_auc:.3f}')\n",
    "plt.plot([0, 1], [0, 1], linestyle='--', color='black')\n",
    "plt.xlabel('False Positive Rate (FPR)')\n",
    "plt.ylabel('True Positive Rate (TPR)')\n",
    "plt.title('ROC Curve')\n",
    "plt.legend()\n",
    "plt.show()"
   ]
  },
  {
   "cell_type": "code",
   "execution_count": 35,
   "id": "8acde5c8-7c94-4e22-857e-b4b0f74d33df",
   "metadata": {},
   "outputs": [
    {
     "data": {
      "image/png": "[encoded data removed]",
      "text/plain": [
       "<Figure size 1000x600 with 1 Axes>"
      ]
     },
     "metadata": {},
     "output_type": "display_data"
    }
   ],
   "source": [
    "feature_importances = model.feature_importances_\n",
    "feature_names = x_train.columns\n",
    "\n",
    "importance_df = pd.DataFrame({'Feature': feature_names, 'Importance': feature_importances})\n",
    "importance_df = importance_df.sort_values(by='Importance', ascending=False)\n",
    "\n",
    "top_10_features = importance_df.head(10)\n",
    "\n",
    "plt.figure(figsize=(10, 6))\n",
    "plt.barh(top_10_features['Feature'], top_10_features['Importance'], color='skyblue')\n",
    "plt.xlabel('Importance')\n",
    "plt.title('Top 10 Important Features')\n",
    "plt.gca().invert_yaxis() \n",
    "plt.show()"
   ]
  },
  {
   "cell_type": "code",
   "execution_count": 62,
   "id": "3d9f4c34-0661-443b-84f3-e0b046a662d2",
   "metadata": {},
   "outputs": [],
   "source": [
    "result_df.to_csv('df_result_metrics.csv', index=False)"
   ]
  },
  {
   "cell_type": "code",
   "execution_count": null,
   "id": "bba245fd-f61d-462b-b824-e7fadcc3a5e3",
   "metadata": {},
   "outputs": [],
   "source": []
  }
 ],
 "metadata": {
  "kernelspec": {
   "display_name": "Python 3 (ipykernel)",
   "language": "python",
   "name": "python3"
  },
  "language_info": {
   "codemirror_mode": {
    "name": "ipython",
    "version": 3
   },
   "file_extension": ".py",
   "mimetype": "text/x-python",
   "name": "python",
   "nbconvert_exporter": "python",
   "pygments_lexer": "ipython3",
   "version": "3.9.21"
  }
 },
 "nbformat": 4,
 "nbformat_minor": 5
}
